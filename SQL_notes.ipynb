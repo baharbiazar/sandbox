{
 "cells": [
  {
   "cell_type": "markdown",
   "id": "6ab7793f",
   "metadata": {},
   "source": [
    "## Joins\n",
    "![](https://i.stack.imgur.com/1Tfy0.jpg)\n",
    "\n",
    "\n",
    "## Union\n",
    "![](https://i.stack.imgur.com/phA2q.jpg)\n",
    "\n",
    "## Union All\n",
    "\n",
    "![](https://csharpcorner-mindcrackerinc.netdna-ssl.com/article/the-complete-reference-set-operations-in-ms-sql-union-all-intersect-excep/Images/e6.png)\n",
    "\n",
    "\n",
    "\n",
    "UNION combines results from both tables.<br>\n",
    "UNION ALL combines two or more result sets into a single set, including all duplicate rows.<br>\n",
    "INTERSECT takes the rows from both the result sets which are common in both.<br>\n",
    "EXCEPT takes the rows from the first result data but does not in the second result set.<br>\n"
   ]
  },
  {
   "cell_type": "code",
   "execution_count": null,
   "id": "1dd5d8e3",
   "metadata": {},
   "outputs": [],
   "source": []
  }
 ],
 "metadata": {
  "kernelspec": {
   "display_name": "Python 3",
   "language": "python",
   "name": "python3"
  },
  "language_info": {
   "codemirror_mode": {
    "name": "ipython",
    "version": 3
   },
   "file_extension": ".py",
   "mimetype": "text/x-python",
   "name": "python",
   "nbconvert_exporter": "python",
   "pygments_lexer": "ipython3",
   "version": "3.8.8"
  }
 },
 "nbformat": 4,
 "nbformat_minor": 5
}
