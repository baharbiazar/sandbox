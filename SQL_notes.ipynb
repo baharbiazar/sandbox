{
 "cells": [
  {
   "cell_type": "markdown",
   "id": "fa978761",
   "metadata": {},
   "source": [
    "## Joins\n",
    "![](https://i.stack.imgur.com/1Tfy0.jpg)\n",
    "\n",
    "\n",
    "## Union\n",
    "![](https://i.stack.imgur.com/phA2q.jpg)\n",
    "\n",
    "## Union All\n",
    "\n",
    "![](https://csharpcorner-mindcrackerinc.netdna-ssl.com/article/the-complete-reference-set-operations-in-ms-sql-union-all-intersect-excep/Images/e6.png)"
   ]
  },
  {
   "cell_type": "code",
   "execution_count": null,
   "id": "2d84f022",
   "metadata": {},
   "outputs": [],
   "source": []
  }
 ],
 "metadata": {
  "kernelspec": {
   "display_name": "Python 3",
   "language": "python",
   "name": "python3"
  },
  "language_info": {
   "codemirror_mode": {
    "name": "ipython",
    "version": 3
   },
   "file_extension": ".py",
   "mimetype": "text/x-python",
   "name": "python",
   "nbconvert_exporter": "python",
   "pygments_lexer": "ipython3",
   "version": "3.8.8"
  }
 },
 "nbformat": 4,
 "nbformat_minor": 5
}
