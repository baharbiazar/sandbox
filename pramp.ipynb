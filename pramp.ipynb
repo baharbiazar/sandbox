{
 "cells": [
  {
   "cell_type": "code",
   "execution_count": 1,
   "id": "7981d1d8",
   "metadata": {},
   "outputs": [],
   "source": [
    "import numpy as np"
   ]
  },
  {
   "cell_type": "code",
   "execution_count": 3,
   "id": "d8e21b24",
   "metadata": {},
   "outputs": [
    {
     "data": {
      "text/plain": [
       "4"
      ]
     },
     "execution_count": 3,
     "metadata": {},
     "output_type": "execute_result"
    }
   ],
   "source": [
    "L= \"nnnnbhfgf\"\n",
    "L.count('n')"
   ]
  },
  {
   "cell_type": "code",
   "execution_count": 9,
   "id": "961e4950",
   "metadata": {},
   "outputs": [],
   "source": [
    "##########################################################\n",
    "# CODE INSTRUCTIONS:                                     #\n",
    "# 1) The method findLargestSmallerKey you're asked       #\n",
    "#    to implement is located at line 30.                 #\n",
    "# 2) Use the helper code below to implement it.          #\n",
    "# 3) In a nutshell, the helper code allows you to        #\n",
    "#    to build a Binary Search Tree.                      #\n",
    "# 4) Jump to line 71 to see an example for how the       #\n",
    "#    helper code is used to test findLargestSmallerKey.  #\n",
    "##########################################################\n",
    "\n",
    "\n",
    "# A node \n",
    "class Node:\n",
    "# Constructor to create a new node\n",
    "  def __init__(self, key):\n",
    "   \n",
    "        self.key = key\n",
    "        self.left = None\n",
    "        self.right = None\n",
    "        self.parent = None\n",
    "\n",
    "# A binary search tree \n",
    "class BinarySearchTree:\n",
    "    \n",
    "    \n",
    "\n",
    "  # Constructor to create a new BST\n",
    "    def __init__(self):\n",
    "\n",
    "        self.root = None\n",
    "\n",
    "    def find_largest_smaller_key(self, num):\n",
    "        # your code goes here\n",
    "        result = -1\n",
    "        root = self.root\n",
    "\n",
    "        while root != None:\n",
    "            if (root.key < num):\n",
    "                result = root.key\n",
    "                root = root.right\n",
    "            else:\n",
    "                root = root.left\n",
    "\n",
    "        return result\n",
    "\n",
    "        \n",
    "\n",
    "    # Given a binary search tree and a number, inserts a\n",
    "    # new node with the given number in the correct place\n",
    "    # in the tree. Returns the new root pointer which the\n",
    "    # caller should then use(the standard trick to avoid\n",
    "    # using reference parameters)\n",
    "    def insert(self, key):\n",
    "        \n",
    "\n",
    "          # 1) If tree is empty, create the root\n",
    "        if (self.root is None):\n",
    "            self.root = Node(key)\n",
    "            return\n",
    "\n",
    "          # 2) Otherwise, create a node with the key\n",
    "          #    and traverse down the tree to find where to\n",
    "          #    to insert the new node\n",
    "        currentNode = self.root\n",
    "        newNode = Node(key)\n",
    "\n",
    "        while(currentNode is not None):\n",
    "            \n",
    "            if(key < currentNode.key):\n",
    "                if(currentNode.left is None):\n",
    "                    currentNode.left = newNode\n",
    "                    newNode.parent = currentNode\n",
    "                    break\n",
    "                else:\n",
    "                    currentNode = currentNode.left\n",
    "            else:\n",
    "                if(currentNode.right is None):\n",
    "                    currentNode.right = newNode\n",
    "                    newNode.parent = currentNode\n",
    "                    break\n",
    "                else:\n",
    "                    currentNode = currentNode.right\n",
    "\n",
    "\n"
   ]
  },
  {
   "cell_type": "code",
   "execution_count": 10,
   "id": "894f6b1c",
   "metadata": {},
   "outputs": [],
   "source": [
    "bst  = BinarySearchTree()\n",
    " \n",
    "# Create the tree given in the above diagram \n",
    "bst.insert(20)\n",
    "bst.insert(9);\n",
    "bst.insert(25);\n",
    "bst.insert(5);\n",
    "bst.insert(12);\n",
    "bst.insert(11);  \n",
    "bst.insert(14);  "
   ]
  },
  {
   "cell_type": "code",
   "execution_count": 11,
   "id": "3ae67b5d",
   "metadata": {},
   "outputs": [
    {
     "name": "stdout",
     "output_type": "stream",
     "text": [
      "14\n"
     ]
    }
   ],
   "source": [
    "print(bst.find_largest_smaller_key(17))"
   ]
  },
  {
   "cell_type": "code",
   "execution_count": 42,
   "id": "37a29055",
   "metadata": {},
   "outputs": [
    {
     "data": {
      "text/plain": [
       "['e',\n",
       " 'c',\n",
       " 'i',\n",
       " 't',\n",
       " 'c',\n",
       " 'a',\n",
       " 'r',\n",
       " 'p',\n",
       " '  ',\n",
       " 's',\n",
       " 'e',\n",
       " 'k',\n",
       " 'a',\n",
       " 'm',\n",
       " '  ',\n",
       " 't',\n",
       " 'c',\n",
       " 'e',\n",
       " 'f',\n",
       " 'r',\n",
       " 'e',\n",
       " 'p']"
      ]
     },
     "execution_count": 42,
     "metadata": {},
     "output_type": "execute_result"
    }
   ],
   "source": [
    "arr = [ 'p', 'e', 'r', 'f', 'e', 'c', 't', '  ',\n",
    "                'm', 'a', 'k', 'e', 's', '  ',\n",
    "                'p', 'r', 'a', 'c', 't', 'i', 'c', 'e' ]\n",
    "\n",
    "\n",
    "new_arr = arr[::-1]\n",
    "new_arr"
   ]
  },
  {
   "cell_type": "code",
   "execution_count": 22,
   "id": "063886d3",
   "metadata": {},
   "outputs": [
    {
     "data": {
      "text/plain": [
       "['e',\n",
       " 'x',\n",
       " 'x',\n",
       " 'x',\n",
       " 'a',\n",
       " 'r',\n",
       " 'p',\n",
       " '  ',\n",
       " 's',\n",
       " 'e',\n",
       " 'k',\n",
       " 'a',\n",
       " 'm',\n",
       " '  ',\n",
       " 't',\n",
       " 'c',\n",
       " 'e',\n",
       " 'f',\n",
       " 'r',\n",
       " 'e',\n",
       " 'p']"
      ]
     },
     "execution_count": 22,
     "metadata": {},
     "output_type": "execute_result"
    }
   ],
   "source": [
    "for i in range(2,4):\n",
    "    new_arr[i] = 'x'\n",
    "new_arr"
   ]
  },
  {
   "cell_type": "code",
   "execution_count": null,
   "id": "af1e5d71",
   "metadata": {},
   "outputs": [],
   "source": [
    "l = []\n",
    "\n",
    "for "
   ]
  },
  {
   "cell_type": "code",
   "execution_count": 40,
   "id": "ec37aebd",
   "metadata": {
    "scrolled": true
   },
   "outputs": [
    {
     "name": "stdout",
     "output_type": "stream",
     "text": [
      "['e', 'c', 'i', 't', 'c', 'a', 'r', 'p', '  ', 's', 'e', 'k', 'a', 'm', '  ', 't', 'c', 'e', 'f', 'r', 'e']\n"
     ]
    }
   ],
   "source": [
    "def mirror(arr, start, end):\n",
    "  \n",
    "  return arr[end:start:-1]\n",
    "\n",
    "\n",
    "def reverse_words(arr):\n",
    "  \n",
    "  revstr= mirror(arr,0,len(arr))\n",
    "  \n",
    "  start = 0 \n",
    " \n",
    "  for i in range(len(revstr)):\n",
    "    \n",
    "    if revstr[i] ==' ':\n",
    "        print(i)\n",
    "\n",
    "        revstr[start:i]= mirror(revstr, start,i)\n",
    "        start += i+1\n",
    "      \n",
    "  \n",
    "    return revstr\n",
    "      \n",
    "\"\"\"\n",
    "#dog and cats\n",
    "#start = 5\n",
    "#end = i = 8\n",
    "mirror(arr[start:i], start, i ) -> mirror(\"stac dna god\",5,8)\n",
    "\n",
    "revstr = stac dna god\n",
    "\n",
    "answer = cats and dog\n",
    "\n",
    "\"\"\"\n",
    "\n",
    "arr = [ 'p', 'e', 'r', 'f', 'e', 'c', 't', '  ',\n",
    "                'm', 'a', 'k', 'e', 's', '  ',\n",
    "                'p', 'r', 'a', 'c', 't', 'i', 'c', 'e' ]\n",
    "\n",
    "res = reverse_words(arr)\n",
    "print(res)\n"
   ]
  },
  {
   "cell_type": "code",
   "execution_count": null,
   "id": "bb780909",
   "metadata": {},
   "outputs": [],
   "source": []
  },
  {
   "cell_type": "code",
   "execution_count": 66,
   "id": "13809cdf",
   "metadata": {},
   "outputs": [],
   "source": [
    "def mirror(arr, start, end):\n",
    "  \n",
    "  return arr[end:start:-1]\n",
    "\n",
    "def mirror2(arr, start, end):\n",
    "  while(start < end):\n",
    "    print(start,end)\n",
    "    t = arr[start]\n",
    "    arr[start] = arr[end]\n",
    "    arr[end] = t\n",
    "    start += 1\n",
    "    end -= 1\n",
    "  return(arr)\n",
    "\n",
    "\n",
    "def reverse_words(arr):\n",
    "  \n",
    "  revstr= mirror2(arr,0,len(arr)-1)\n",
    "  print(revstr)\n",
    "  start = 0 \n",
    " \n",
    "  for i in range(len(revstr)):\n",
    "    \n",
    "    if revstr[i] ==' ':\n",
    "      print(i)\n",
    "\n",
    "      revstr = mirror2(revstr, start,i-1)\n",
    "      start = i+1 # start = i+1\n",
    "    elif i == len(revstr)-1:\n",
    "      revstr = mirror2(revstr,start,i)\n",
    "      \n",
    "  return revstr"
   ]
  },
  {
   "cell_type": "code",
   "execution_count": null,
   "id": "0288c37a",
   "metadata": {},
   "outputs": [],
   "source": [
    "## MY WAY:"
   ]
  },
  {
   "cell_type": "code",
   "execution_count": 63,
   "id": "7ccb7583",
   "metadata": {},
   "outputs": [
    {
     "name": "stdout",
     "output_type": "stream",
     "text": [
      "['p', 'r', 'a', 'c', 't', 'i', 'c', 'e', ' ', 'm', 'a', 'k', 'e', 's', ' ', 'p', 'e', 'r', 'f', 'e', 'c', 't']\n"
     ]
    }
   ],
   "source": [
    "arr = [ 'p', 'e', 'r', 'f', 'e', 'c', 't', '  ',\n",
    "                'm', 'a', 'k', 'e', 's', '  ',\n",
    "                'p', 'r', 'a', 'c', 't', 'i', 'c', 'e' ]\n",
    "\n",
    "new_arr = arr[::-1]\n",
    "start = 0\n",
    "end = 0\n",
    "ind =[]\n",
    "for idx, i in enumerate(new_arr):\n",
    "    if i == '  ' or idx == len(new_arr)-1:\n",
    "        end = idx-1\n",
    "        word = new_arr[end:start:-1]\n",
    "        ind.extend(word)\n",
    "        ind.append(' ')\n",
    "        start = end+1\n",
    "print(ind[:-1])\n",
    "    "
   ]
  },
  {
   "cell_type": "code",
   "execution_count": null,
   "id": "be5e3778",
   "metadata": {},
   "outputs": [],
   "source": []
  },
  {
   "cell_type": "code",
   "execution_count": null,
   "id": "2f4fb381",
   "metadata": {},
   "outputs": [],
   "source": []
  }
 ],
 "metadata": {
  "kernelspec": {
   "display_name": "Python 3",
   "language": "python",
   "name": "python3"
  },
  "language_info": {
   "codemirror_mode": {
    "name": "ipython",
    "version": 3
   },
   "file_extension": ".py",
   "mimetype": "text/x-python",
   "name": "python",
   "nbconvert_exporter": "python",
   "pygments_lexer": "ipython3",
   "version": "3.8.10"
  }
 },
 "nbformat": 4,
 "nbformat_minor": 5
}
