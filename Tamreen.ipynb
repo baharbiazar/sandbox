{
 "cells": [
  {
   "cell_type": "markdown",
   "metadata": {},
   "source": [
    "## Pramp Sentence Reverse\n",
    "You are given an array of characters arr that consists of sequences of characters separated by space characters. Each space-delimited sequence of characters defines a word.\n",
    "\n",
    "Implement a function reverseWords that reverses the order of the words in the array in the most efficient manner.\n",
    "\n",
    "Explain your solution and analyze its time and space complexities.\n",
    "\n",
    "Example:\n",
    "\n",
    "input:  arr = [ 'p', 'e', 'r', 'f', 'e', 'c', 't', '  ',\n",
    "                'm', 'a', 'k', 'e', 's', '  ',\n",
    "                'p', 'r', 'a', 'c', 't', 'i', 'c', 'e' ]\n",
    "\n",
    "output: [ 'p', 'r', 'a', 'c', 't', 'i', 'c', 'e', '  ',\n",
    "          'm', 'a', 'k', 'e', 's', '  ',\n",
    "          'p', 'e', 'r', 'f', 'e', 'c', 't' ]"
   ]
  },
  {
   "cell_type": "code",
   "execution_count": 68,
   "metadata": {},
   "outputs": [],
   "source": [
    "# Bizz joon, another way, BEST WAY SO FAR:\n",
    "\n",
    "def reverse_words(arr):\n",
    "    '''\n",
    "    start from the end:\n",
    "    if the letter is ' ', add the string to new list,\n",
    "    and if the letter is the last/first letter: add what you have \n",
    "    '''\n",
    "    \n",
    "    res=[]\n",
    "    arr.insert(0, ' ')\n",
    "    start= len(arr)-1\n",
    "    end = len(arr)-1\n",
    "    \n",
    "    while end>= 0:\n",
    "        \n",
    "        if end ==0:\n",
    "            return res[1:]\n",
    "        \n",
    "        if arr[start]== ' ':\n",
    "            if end == len(arr)-1:\n",
    "                res.extend(arr[start:])\n",
    "                end = start\n",
    "                start-=1\n",
    "            else:\n",
    "                res.extend(arr[start:end])\n",
    "                end = start\n",
    "                start-=1\n",
    "        start-=1\n",
    "        \n",
    "    \n",
    "res= reverse_words( arr = ['p', 'e', 'r', 'f', 'e', 'c', 't', ' ',\n",
    "                'm', 'a', 'k', 'e', 's', ' ',\n",
    "                'p', 'r', 'a', 'c', 't', 'i', 'c', 'e' ])\n",
    "\n",
    "print(res)      \n",
    "        \n",
    "        "
   ]
  },
  {
   "cell_type": "code",
   "execution_count": 70,
   "metadata": {},
   "outputs": [
    {
     "name": "stdout",
     "output_type": "stream",
     "text": [
      "8\n",
      "14\n",
      "22\n",
      "['p', 'r', 'a', 'c', 't', 'i', 'c', 'e', ' ', 'm', 'a', 'k', 'e', 's', ' ', 'p', 'e', 'r', 'f', 'e', 'c', 't']\n"
     ]
    }
   ],
   "source": [
    "# raveshe Bizz joon avali:\n",
    "arr = [ 'p', 'e', 'r', 'f', 'e', 'c', 't', ' ',\n",
    "                'm', 'a', 'k', 'e', 's', ' ',\n",
    "                'p', 'r', 'a', 'c', 't', 'i', 'c', 'e', ' ' ]\n",
    "\n",
    "new_arr = arr[::-1]\n",
    "start = 0\n",
    "end = 0\n",
    "ind =[]\n",
    "for idx, i in enumerate(new_arr):\n",
    "    if (i == ' ' and idx>0):\n",
    "        end = idx-1\n",
    "        print(end)\n",
    "        word = new_arr[end:start:-1]\n",
    "        ind.extend(word)\n",
    "        ind.append(' ')\n",
    "        start = end+1\n",
    "    elif idx == len(new_arr)-1:\n",
    "        end = idx\n",
    "        print(end)\n",
    "        word = new_arr[end:start:-1]\n",
    "        ind.extend(word)\n",
    "        ind.append(' ')\n",
    "print(ind[:-1])"
   ]
  },
  {
   "cell_type": "code",
   "execution_count": 1,
   "metadata": {},
   "outputs": [
    {
     "name": "stdout",
     "output_type": "stream",
     "text": [
      "0 21\n",
      "1 20\n",
      "2 19\n",
      "3 18\n",
      "4 17\n",
      "5 16\n",
      "6 15\n",
      "7 14\n",
      "8 13\n",
      "9 12\n",
      "10 11\n",
      "['e', 'c', 'i', 't', 'c', 'a', 'r', 'p', ' ', 's', 'e', 'k', 'a', 'm', ' ', 't', 'c', 'e', 'f', 'r', 'e', 'p']\n",
      "8\n",
      "0 7\n",
      "1 6\n",
      "2 5\n",
      "3 4\n",
      "14\n",
      "9 13\n",
      "10 12\n",
      "15 21\n",
      "16 20\n",
      "17 19\n",
      "['p', 'r', 'a', 'c', 't', 'i', 'c', 'e', ' ', 'm', 'a', 'k', 'e', 's', ' ', 'p', 'e', 'r', 'f', 'e', 'c', 't']\n"
     ]
    }
   ],
   "source": [
    "# raveshe agha hendi\n",
    "def mirror(arr, start, end):\n",
    "    return arr[end:start:-1]\n",
    "\n",
    "def mirror2(arr, start, end):\n",
    "    \n",
    "    while(start < end):\n",
    "        print(start,end)\n",
    "        t = arr[start]\n",
    "        arr[start] = arr[end]\n",
    "        arr[end] = t\n",
    "        start += 1\n",
    "        end -= 1\n",
    "    return(arr)\n",
    "\n",
    "\n",
    "def reverse_words(arr):\n",
    "    \n",
    "    \n",
    "  \n",
    "    revstr= mirror2(arr,0,len(arr)-1)\n",
    "    print(revstr)\n",
    "    start = 0 \n",
    " \n",
    "    for i in range(len(revstr)):\n",
    "\n",
    "        if revstr[i] ==' ':\n",
    "            \n",
    "            print(i)\n",
    "\n",
    "            revstr = mirror2(revstr, start,i-1)\n",
    "            start = i+1 # start = i+1\n",
    "        elif i == len(revstr)-1:\n",
    "            revstr = mirror2(revstr,start,i)\n",
    "      \n",
    "    return revstr\n",
    "\"\"\"\n",
    "#dog and cats\n",
    "#start = 5\n",
    "\n",
    "#end = i = 8\n",
    "mirror(arr[start:i], start, i ) -> mirror(\"stac dna god\",5,8)\n",
    "\n",
    "revstr = stac dna god\n",
    "\n",
    "answer = cats and dog\n",
    "\n",
    "\"\"\"\n",
    "\n",
    "arr = [ 'p', 'e', 'r', 'f', 'e', 'c', 't', ' ',\n",
    "                'm', 'a', 'k', 'e', 's', ' ',\n",
    "                'p', 'r', 'a', 'c', 't', 'i', 'c', 'e' ]\n",
    "\n",
    "res = reverse_words(arr)\n",
    "print(res)\n"
   ]
  },
  {
   "cell_type": "markdown",
   "metadata": {},
   "source": [
    "## Pramp Word Count"
   ]
  },
  {
   "cell_type": "markdown",
   "metadata": {},
   "source": [
    "Word Count Engine\n",
    "Implement a document scanning function wordCountEngine, which receives a string document and returns a list of all unique words in it and their number of occurrences, sorted by the number of occurrences in a descending order. If two or more words have the same count, they should be sorted according to their order in the original sentence. Assume that all letters are in english alphabet. You function should be case-insensitive, so for instance, the words “Perfect” and “perfect” should be considered the same word.\n",
    "\n",
    "The engine should strip out punctuation (even in the middle of a word) and use whitespaces to separate words.\n",
    "\n",
    "Analyze the time and space complexities of your solution. Try to optimize for time while keeping a polynomial space complexity.\n",
    "\n",
    "Examples:\n",
    "\n",
    "input:  document = \"Practice makes perfect. you'll only\n",
    "                    get Perfect by practice. just practice!\"\n",
    "\n",
    "output: [ [\"practice\", \"3\"], [\"perfect\", \"2\"],\n",
    "          [\"makes\", \"1\"], [\"youll\", \"1\"], [\"only\", \"1\"], \n",
    "          [\"get\", \"1\"], [\"by\", \"1\"], [\"just\", \"1\"] ]\n",
    "\n",
    "Important: please convert the occurrence integers in the output list to strings (e.g. \"3\" instead of 3). We ask this because in compiled languages such as C#, Java, C++, C etc., it’s not straightforward to create mixed-type arrays (as it is, for instance, in scripted languages like JavaScript, Python, Ruby etc.). The expected output will simply be an array of string arrays.\n",
    "\n",
    "Constraints:\n",
    "\n",
    "[time limit] 5000ms\n",
    "[input] string document\n",
    "[output] array.array.string"
   ]
  },
  {
   "cell_type": "code",
   "execution_count": 48,
   "metadata": {},
   "outputs": [
    {
     "name": "stdout",
     "output_type": "stream",
     "text": [
      "practice makes perfect youll only get perfect by practice just practice <class 'str'>\n",
      "['practice', 'makes', 'perfect', 'youll', 'only', 'get', 'perfect', 'by', 'practice', 'just', 'practice']\n",
      "[['practice', '3'], ['perfect', '2'], ['makes', '1'], ['youll', '1'], ['only', '1'], ['get', '1'], ['by', '1'], ['just', '1']]\n"
     ]
    }
   ],
   "source": [
    "import re\n",
    "def word_count_engine(document):\n",
    "    document = document.lower()\n",
    "    res = re.sub(r'[^\\w\\s]', '', document)\n",
    "    print(res , type(res))\n",
    "    \n",
    "    words = res.split(' ')\n",
    "    print(words)\n",
    "    \n",
    "    dic = {}\n",
    "    for i in words:\n",
    "        dic[i] = words.count(i)\n",
    "        \n",
    "    l=[[k, str(v)] for k, v in sorted(dic.items(), key=lambda x: x[1], reverse=True)] \n",
    "    \n",
    "    for \n",
    "    return l\n",
    "    \n",
    "        \n",
    "    \n",
    "\n",
    "document = \"Practice makes perfect. you'll only get Perfect by practice. just practice!\"\n",
    "word_count_engine(document)\n"
   ]
  },
  {
   "cell_type": "code",
   "execution_count": 34,
   "metadata": {},
   "outputs": [
    {
     "data": {
      "text/plain": [
       "\"practice makes perfect. you'll only get perfect by practice. just practice!\""
      ]
     },
     "execution_count": 34,
     "metadata": {},
     "output_type": "execute_result"
    }
   ],
   "source": [
    "document.lower()"
   ]
  },
  {
   "cell_type": "code",
   "execution_count": 50,
   "metadata": {},
   "outputs": [
    {
     "data": {
      "text/plain": [
       "0.00148779296875"
      ]
     },
     "execution_count": 50,
     "metadata": {},
     "output_type": "execute_result"
    }
   ],
   "source": [
    "(0.999 * (0.5**11)) + 0.001"
   ]
  },
  {
   "cell_type": "code",
   "execution_count": 51,
   "metadata": {},
   "outputs": [
    {
     "data": {
      "text/plain": [
       "0.5005"
      ]
     },
     "execution_count": 51,
     "metadata": {},
     "output_type": "execute_result"
    }
   ],
   "source": [
    "(0.999*0.5) + 0.001"
   ]
  },
  {
   "cell_type": "markdown",
   "metadata": {},
   "source": [
    "## Another Pramp Question\n",
    "Given an array arr of unique nonnegative integers, implement a function getDifferentNumber that finds the smallest nonnegative integer that is NOT in the array.\n",
    "\n",
    "Input: arr = [0, 1, 2, 3] \n",
    "<br> Output: 4"
   ]
  },
  {
   "cell_type": "code",
   "execution_count": 83,
   "metadata": {},
   "outputs": [
    {
     "data": {
      "text/plain": [
       "[9, 1]"
      ]
     },
     "execution_count": 83,
     "metadata": {},
     "output_type": "execute_result"
    }
   ],
   "source": [
    "arr= [0,9,1]\n",
    "arr2= arr.copy()\n",
    "arr2.pop(0)\n",
    "arr2"
   ]
  },
  {
   "cell_type": "code",
   "execution_count": 76,
   "metadata": {},
   "outputs": [],
   "source": [
    "def getDiffNum(arr):\n",
    "    arr2 = sorted(arr)\n",
    "    if arr2[-1]>=0:\n",
    "        return arr2[-1]+1\n",
    "    else:\n",
    "        return 'nothing'\n",
    "        "
   ]
  },
  {
   "cell_type": "code",
   "execution_count": 78,
   "metadata": {},
   "outputs": [
    {
     "data": {
      "text/plain": [
       "3"
      ]
     },
     "execution_count": 78,
     "metadata": {},
     "output_type": "execute_result"
    }
   ],
   "source": [
    "getDiffNum([0, 1, 2, -7])"
   ]
  },
  {
   "cell_type": "markdown",
   "metadata": {},
   "source": [
    "## Another Pramp Question\n",
    "Given an array of integers arr, you’re asked to calculate for each index i the product of all integers except the integer at that index (i.e. except arr[i]). Implement a function arrayOfArrayProducts that takes an array of integers and returns an array of the products.\n",
    "\n",
    "Solve without using division and analyze your solution’s time and space complexities.\n",
    "\n",
    "Examples:\n",
    "input: arr = [8, 10, 2]\n",
    "\n",
    "output: [20, 16, 80] # by calculating: [10x2, 8x2, 8x10]\n",
    "\n",
    "input: arr = [2, 7, 3, 4]\n",
    "\n",
    "output: [84, 24, 56, 42] # by calculating: [7x3x4, 2x3x4, 2x7x4, 2x7x3]"
   ]
  },
  {
   "cell_type": "code",
   "execution_count": 88,
   "metadata": {},
   "outputs": [],
   "source": [
    "import numpy as np\n",
    "\n",
    "def multiply(arr):\n",
    "    res = []\n",
    "    idx=0\n",
    "    for i in arr:\n",
    "        arr2= arr.copy()\n",
    "        arr2.pop(idx)\n",
    "        res.append(np.prod(arr2))\n",
    "        idx+=1\n",
    "        \n",
    "    return res\n",
    "    "
   ]
  },
  {
   "cell_type": "code",
   "execution_count": 90,
   "metadata": {},
   "outputs": [
    {
     "data": {
      "text/plain": [
       "[84, 24, 56, 42]"
      ]
     },
     "execution_count": 90,
     "metadata": {},
     "output_type": "execute_result"
    }
   ],
   "source": [
    "multiply([2, 7, 3, 4])"
   ]
  },
  {
   "cell_type": "markdown",
   "metadata": {},
   "source": [
    "## Pramp Question"
   ]
  },
  {
   "cell_type": "markdown",
   "metadata": {},
   "source": [
    "You’re testing a new driverless car that is located at the Southwest (bottom-left) corner of an n×n grid. The car is supposed to get to the opposite, Northeast (top-right), corner of the grid. Given n, the size of the grid’s axes, write a function numOfPathsToDest that returns the number of the possible paths the driverless car can take.\n",
    "\n",
    "![](https://github.com/JiawenQi98/PrampPractice/raw/master/Number%20of%20Paths/example.png)\n",
    "\n",
    "For convenience, let’s represent every square in the grid as a pair (i,j). The first coordinate in the pair denotes the east-to-west axis, and the second coordinate denotes the south-to-north axis. The initial state of the car is (0,0), and the destination is (n-1,n-1).\n",
    "\n",
    "The car must abide by the following two rules: it cannot cross the diagonal border. In other words, in every step the position (i,j) needs to maintain i >= j. See the illustration above for n = 5. In every step, it may go one square North (up), or one square East (right), but not both. E.g. if the car is at (3,1), it may go to (3,2) or (4,1).\n",
    "\n",
    "Example:\n",
    "Input: n = 4\n",
    "\n",
    "Output: 5\n",
    "\n",
    "Explaination: since there are five possibilities: “EEENNN”, “EENENN”, “ENEENN”, “ENENEN”, “EENNEN”, where the 'E' character stands for moving one step East, and the 'N' character stands for moving one step North (so, for instance, the path sequence “EEENNN” stands for the following steps that the car took: East, East, East, North, North, North)"
   ]
  },
  {
   "cell_type": "code",
   "execution_count": 96,
   "metadata": {},
   "outputs": [
    {
     "data": {
      "text/plain": [
       "[(0, 0),\n",
       " (1, 0),\n",
       " (1, 1),\n",
       " (2, 0),\n",
       " (2, 1),\n",
       " (2, 2),\n",
       " (3, 0),\n",
       " (3, 1),\n",
       " (3, 2),\n",
       " (3, 3)]"
      ]
     },
     "execution_count": 96,
     "metadata": {},
     "output_type": "execute_result"
    }
   ],
   "source": [
    "def find_ways(n):\n",
    "    \n",
    "    ways=[]\n",
    "    i=0\n",
    "    j=0\n",
    "    start=(0,0)\n",
    "    dest=(n-1, n-1)\n",
    "    \n",
    "    while i>=j and i<= n:\n",
    "        for i in range(n):\n",
    "            for j in range(n):\n",
    "                j+=1\n",
    "                \n",
    "            \n",
    " \n",
    "            \n",
    "                \n",
    "    return ways\n",
    "\n",
    "find_ways(4)"
   ]
  },
  {
   "cell_type": "markdown",
   "metadata": {},
   "source": [
    "## Data Interview Udemy Course\n",
    "## 1"
   ]
  },
  {
   "cell_type": "markdown",
   "metadata": {},
   "source": [
    "<span style = 'color:red'> **STAR Question** </span> \n",
    "\n",
    "Find the largest continouse sum of an array of positive and negative integers\n",
    "\n",
    "[8,9,10]= 27\n",
    "\n",
    "[-1,7,8,9,-10]=24\n",
    "\n",
    "[2,11,-10,2,9] =  all= 14\n"
   ]
  },
  {
   "cell_type": "code",
   "execution_count": 11,
   "metadata": {},
   "outputs": [],
   "source": [
    "def con_sum(arr):\n",
    "    sum_=0\n",
    "    for i in range(len(arr)):\n",
    "        for j in range(len(arr)+1):\n",
    "            if sum(arr[i:j])>sum_:\n",
    "                print(i,j)\n",
    "                sum_=sum(arr[i:j])\n",
    "    return sum_"
   ]
  },
  {
   "cell_type": "code",
   "execution_count": 12,
   "metadata": {},
   "outputs": [
    {
     "name": "stdout",
     "output_type": "stream",
     "text": [
      "0 1\n",
      "0 2\n",
      "0 5\n"
     ]
    },
    {
     "data": {
      "text/plain": [
       "14"
      ]
     },
     "execution_count": 12,
     "metadata": {},
     "output_type": "execute_result"
    }
   ],
   "source": [
    "con_sum([2,11,-10,2,9])"
   ]
  },
  {
   "cell_type": "code",
   "execution_count": 13,
   "metadata": {},
   "outputs": [
    {
     "name": "stdout",
     "output_type": "stream",
     "text": [
      "0 1\n",
      "0 2\n",
      "0 3\n"
     ]
    },
    {
     "data": {
      "text/plain": [
       "27"
      ]
     },
     "execution_count": 13,
     "metadata": {},
     "output_type": "execute_result"
    }
   ],
   "source": [
    "con_sum([8,9,10])"
   ]
  },
  {
   "cell_type": "code",
   "execution_count": 15,
   "metadata": {},
   "outputs": [
    {
     "name": "stdout",
     "output_type": "stream",
     "text": [
      "0 2\n",
      "0 3\n",
      "0 4\n",
      "1 4\n"
     ]
    },
    {
     "data": {
      "text/plain": [
       "24"
      ]
     },
     "execution_count": 15,
     "metadata": {},
     "output_type": "execute_result"
    }
   ],
   "source": [
    "con_sum([-1,7,8,9,-10])"
   ]
  },
  {
   "cell_type": "code",
   "execution_count": 16,
   "metadata": {},
   "outputs": [
    {
     "data": {
      "text/plain": [
       "24"
      ]
     },
     "execution_count": 16,
     "metadata": {},
     "output_type": "execute_result"
    }
   ],
   "source": [
    "## better way:\n",
    "def con_large_sum(arr):\n",
    "    if len(arr) ==0:\n",
    "        return 0\n",
    "    sum_ = arr[0]\n",
    "    current_sum= arr[0]\n",
    "    \n",
    "    for num in arr[1:]:\n",
    "        current_sum = max(current_sum +num, num)\n",
    "        sum_= max(current_sum, sum_)\n",
    "    return sum_\n",
    "\n",
    "con_large_sum([-1,7,8,9,-10])\n"
   ]
  },
  {
   "cell_type": "markdown",
   "metadata": {},
   "source": [
    "## 2"
   ]
  },
  {
   "cell_type": "markdown",
   "metadata": {},
   "source": [
    "Compress strings so they take up less space"
   ]
  },
  {
   "cell_type": "code",
   "execution_count": 33,
   "metadata": {},
   "outputs": [],
   "source": [
    "def comp(string):\n",
    "    string +='h'\n",
    "    cur_letter= string[0]\n",
    "    res=''\n",
    "    num=0\n",
    "    for i in string:\n",
    "        \n",
    "        if i== cur_letter:\n",
    "            num+=1\n",
    "        else:\n",
    "            res+=cur_letter\n",
    "            res+= str(num)\n",
    "            num=1\n",
    "            cur_letter= i\n",
    "        \n",
    "    if len(res)>= len(string):\n",
    "        return string\n",
    "    return res"
   ]
  },
  {
   "cell_type": "code",
   "execution_count": 34,
   "metadata": {},
   "outputs": [
    {
     "data": {
      "text/plain": [
       "'A4'"
      ]
     },
     "execution_count": 34,
     "metadata": {},
     "output_type": "execute_result"
    }
   ],
   "source": [
    "comp('AAAA')"
   ]
  },
  {
   "cell_type": "code",
   "execution_count": 72,
   "metadata": {},
   "outputs": [],
   "source": [
    "def comp2(string):\n",
    "    cur_letter= string[0]\n",
    "    res=''\n",
    "    num=0\n",
    "    \n",
    "    for idx, val in enumerate(string):\n",
    "\n",
    "        if idx ==len(string)-1:\n",
    "            num+=1\n",
    "            res+=cur_letter\n",
    "            res+= str(num)\n",
    "            if len(res)>=len(string):\n",
    "                return string\n",
    "            \n",
    "            return res\n",
    "\n",
    "        else:\n",
    "            if val== cur_letter:\n",
    "                num+=1\n",
    "            else:\n",
    "                res+=cur_letter\n",
    "                res+= str(num)\n",
    "                num=1\n",
    "                cur_letter= val\n"
   ]
  },
  {
   "cell_type": "code",
   "execution_count": 73,
   "metadata": {},
   "outputs": [
    {
     "data": {
      "text/plain": [
       "'A4'"
      ]
     },
     "execution_count": 73,
     "metadata": {},
     "output_type": "execute_result"
    }
   ],
   "source": [
    "comp2('AAAA')"
   ]
  },
  {
   "cell_type": "code",
   "execution_count": 75,
   "metadata": {},
   "outputs": [
    {
     "data": {
      "text/plain": [
       "'A3'"
      ]
     },
     "execution_count": 75,
     "metadata": {},
     "output_type": "execute_result"
    }
   ],
   "source": [
    "comp2('AAB')"
   ]
  },
  {
   "cell_type": "code",
   "execution_count": 116,
   "metadata": {},
   "outputs": [],
   "source": [
    "def comp3(string):\n",
    "    res=''\n",
    "    lst= list(string)\n",
    "    \n",
    "    for i in lst:\n",
    "        if i not in res:\n",
    "            res+=i\n",
    "            res+= str(lst.count(i))\n",
    "    \n",
    "    if len(res)>=len(string):\n",
    "        return string   \n",
    "    return res"
   ]
  },
  {
   "cell_type": "code",
   "execution_count": 117,
   "metadata": {},
   "outputs": [
    {
     "data": {
      "text/plain": [
       "'A3a3'"
      ]
     },
     "execution_count": 117,
     "metadata": {},
     "output_type": "execute_result"
    }
   ],
   "source": [
    "comp3('AAAaaa')"
   ]
  },
  {
   "cell_type": "code",
   "execution_count": 110,
   "metadata": {},
   "outputs": [],
   "source": [
    "# best:\n",
    "def comp4(string):\n",
    "    \n",
    "    if len(string)<=1:\n",
    "        return string\n",
    "    \n",
    "    res=''\n",
    "    i=1\n",
    "    cnt =1\n",
    "    length= len(string)\n",
    "    \n",
    "    while i < length:\n",
    "        if string[i]== string[i-1]:\n",
    "            cnt+=1\n",
    "            i+=1\n",
    "        else:\n",
    "            res= res + string[i-1]+ str(cnt)\n",
    "            cnt =1\n",
    "            i+=1\n",
    "    res= res + string[i-1]+ str(cnt)\n",
    "    return res"
   ]
  },
  {
   "cell_type": "code",
   "execution_count": 115,
   "metadata": {},
   "outputs": [
    {
     "data": {
      "text/plain": [
       "'A2B1'"
      ]
     },
     "execution_count": 115,
     "metadata": {},
     "output_type": "execute_result"
    }
   ],
   "source": [
    "comp4('AAB')"
   ]
  },
  {
   "cell_type": "markdown",
   "metadata": {},
   "source": [
    "## 3\n",
    "<span style = 'color:red'> **STAR Question** </span> \n",
    "\n",
    "find the maximum profit of the stock market trade prices sorted by day in a array"
   ]
  },
  {
   "cell_type": "code",
   "execution_count": 170,
   "metadata": {},
   "outputs": [],
   "source": [
    "\n",
    "def folan(arr):\n",
    "    buy=arr[0]\n",
    "    dif=0\n",
    "    sell=arr[0]\n",
    "    check = 1\n",
    "    \n",
    "    for num in arr[1:]:\n",
    "        check+=1\n",
    "        if num-buy>dif:\n",
    "            dif = num-buy\n",
    "            sell = num\n",
    "        else:\n",
    "            for i in arr[check:]:\n",
    "                if i-num >dif:\n",
    "                    dif= i-num\n",
    "                    sell=i\n",
    "                    buy=num\n",
    "            \n",
    "            \n",
    "    return(buy, sell)\n",
    "\n"
   ]
  },
  {
   "cell_type": "code",
   "execution_count": 172,
   "metadata": {},
   "outputs": [
    {
     "data": {
      "text/plain": [
       "(1, 91)"
      ]
     },
     "execution_count": 172,
     "metadata": {},
     "output_type": "execute_result"
    }
   ],
   "source": [
    "arr= [6,13,14,2,10,2,27,3,5,90,1,91]\n",
    "\n",
    "\n",
    "folan(arr)"
   ]
  },
  {
   "cell_type": "code",
   "execution_count": 173,
   "metadata": {},
   "outputs": [],
   "source": [
    "## Rahe behtar:\n",
    "\n",
    "def profit(arr):\n",
    "    min_stock_price = arr[0]\n",
    "    max_profit = 0\n",
    "    \n",
    "    for price in arr:\n",
    "        min_stock_price = min(min_stock_price, price)\n",
    "        comparison_profit = price - min_stock_price\n",
    "        max_profit = max(max_profit, comparison_profit)\n",
    "    return max_profit"
   ]
  },
  {
   "cell_type": "code",
   "execution_count": 175,
   "metadata": {},
   "outputs": [
    {
     "data": {
      "text/plain": [
       "1105"
      ]
     },
     "execution_count": 175,
     "metadata": {},
     "output_type": "execute_result"
    }
   ],
   "source": [
    "arr= [6,13,14,1111,2,10,2,27,3,5,90,1,91]\n",
    "profit(arr)"
   ]
  },
  {
   "cell_type": "markdown",
   "metadata": {},
   "source": [
    "## 4\n",
    "<span style = 'color:red'> **STAR Question** </span> \n",
    "\n",
    "we have one array of positive numbers and a second one which is a shuffle of first but one number is missing. find the missing number"
   ]
  },
  {
   "cell_type": "code",
   "execution_count": 248,
   "metadata": {},
   "outputs": [],
   "source": [
    "def find_missing(arr1, arr2):\n",
    "    arr1.sort()\n",
    "    arr2.sort()\n",
    "    print(arr1, arr2)\n",
    "    \n",
    "    for i in range(len(arr1)):\n",
    "        \n",
    "        if i< (len(arr1)-1) & arr1[i] != arr2[i]:\n",
    "            return arr1[i]\n",
    "        else:\n",
    "            return arr1[-1]"
   ]
  },
  {
   "cell_type": "code",
   "execution_count": 249,
   "metadata": {},
   "outputs": [
    {
     "name": "stdout",
     "output_type": "stream",
     "text": [
      "[2, 3, 6, 8, 9] [3, 6, 8, 9]\n"
     ]
    },
    {
     "data": {
      "text/plain": [
       "9"
      ]
     },
     "execution_count": 249,
     "metadata": {},
     "output_type": "execute_result"
    }
   ],
   "source": [
    "arr1=[3,6,9,8,2]\n",
    "arr2=[6,3,8,9]\n",
    "find_missing(arr1,arr2)"
   ]
  },
  {
   "cell_type": "code",
   "execution_count": 243,
   "metadata": {},
   "outputs": [],
   "source": [
    "def find_missing2(arr1, arr2):\n",
    "    arr1.sort()\n",
    "    arr2.sort()\n",
    "    print(arr1, arr2)\n",
    "    \n",
    "    for idx,val in enumerate(arr1):\n",
    "        print(idx,val)\n",
    "        if idx<(len(arr1)-1) and arr1[idx] != arr2[idx] :\n",
    "            print('lol')\n",
    "            return val\n",
    "        elif idx == len(arr1)-1:\n",
    "            return val\n",
    "            "
   ]
  },
  {
   "cell_type": "code",
   "execution_count": 250,
   "metadata": {},
   "outputs": [
    {
     "name": "stdout",
     "output_type": "stream",
     "text": [
      "[2, 3, 6, 8, 9] [3, 6, 8, 9]\n",
      "0 2\n",
      "lol\n"
     ]
    },
    {
     "data": {
      "text/plain": [
       "2"
      ]
     },
     "execution_count": 250,
     "metadata": {},
     "output_type": "execute_result"
    }
   ],
   "source": [
    "find_missing2(arr1,arr2)"
   ]
  },
  {
   "cell_type": "code",
   "execution_count": 251,
   "metadata": {},
   "outputs": [
    {
     "name": "stdout",
     "output_type": "stream",
     "text": [
      "2\n"
     ]
    }
   ],
   "source": [
    "# LOL way! This probably has a ON2 complexity\n",
    "for i in arr1:\n",
    "    if i not in arr2:\n",
    "        print(i)"
   ]
  },
  {
   "cell_type": "code",
   "execution_count": null,
   "metadata": {},
   "outputs": [],
   "source": [
    "## Jose's way1: sooooooo smart\n",
    "\n",
    "return sum(arr1)- sum(arr2)\n",
    "\n",
    "\n",
    "\n",
    "## Jose's way2:\n",
    "arr1.sort()\n",
    "arr2.sort()\n",
    "\n",
    "for num1, num2 in zip(arr1,arr2):\n",
    "    if num1 != num2:\n",
    "        return num1\n",
    "return arr1[-1]"
   ]
  },
  {
   "cell_type": "markdown",
   "metadata": {},
   "source": [
    "## Unify Interview Question"
   ]
  },
  {
   "cell_type": "markdown",
   "metadata": {},
   "source": [
    "Without sorting, return the 3 highest numbers in an array."
   ]
  },
  {
   "cell_type": "code",
   "execution_count": 3,
   "metadata": {},
   "outputs": [
    {
     "data": {
      "text/plain": [
       "(70, 40, 32)"
      ]
     },
     "execution_count": 3,
     "metadata": {},
     "output_type": "execute_result"
    }
   ],
   "source": [
    "def highest3(arr):\n",
    "    \n",
    "    first = arr[0]\n",
    "    second = arr[1]\n",
    "    third= arr[2]\n",
    "    \n",
    "    for i in arr:\n",
    "        if i > first:\n",
    "            third = second\n",
    "            second = first\n",
    "            first = i\n",
    "        elif i> second:\n",
    "            third= second\n",
    "            second = i\n",
    "        elif i > third:\n",
    "            third = i\n",
    "    return first, second, third\n",
    "\n",
    "\n",
    "myarr= [-40, 70, 40, 2, 1,-20,32]\n",
    "        \n",
    "highest3(myarr)"
   ]
  },
  {
   "cell_type": "markdown",
   "metadata": {},
   "source": [
    "## Microsoft Interview Question\n",
    "Pascal's Triangle\n",
    "Given an integer numRows, return the first numRows of Pascal's triangle.\n",
    "In Pascal's triangle, each number is the sum of the two numbers directly above it as shown:\n",
    "![](https://upload.wikimedia.org/wikipedia/commons/0/0d/PascalTriangleAnimated2.gif)\n",
    "\n",
    "numRows = 5\n",
    "\n",
    "triangle = [[1],[1,1],[1,2,1],[1,3,3,1],[1,4,6,4,1]]\n",
    "\n",
    "define a function that returns the number at a certain row and column."
   ]
  },
  {
   "cell_type": "code",
   "execution_count": 19,
   "metadata": {},
   "outputs": [],
   "source": [
    "def pascal(row,col):\n",
    "    \n",
    "    # first build the triangle and then return the number by index\n",
    "    triangle = [[1], [1,1]]\n",
    "    \n",
    "    for i in range(2,row+1):\n",
    "        nums= [1]\n",
    "        for j in range(1,i+1):\n",
    "            if j != i:\n",
    "                nums.append(triangle[-1][j]+triangle[-1][j-1])\n",
    "            else:\n",
    "                nums.append(1)\n",
    "        triangle.append(nums)\n",
    "    print(triangle)\n",
    "    return triangle[row][col]\n",
    "        \n",
    "    "
   ]
  },
  {
   "cell_type": "code",
   "execution_count": 20,
   "metadata": {},
   "outputs": [
    {
     "name": "stdout",
     "output_type": "stream",
     "text": [
      "[[1], [1, 1], [1, 2, 1], [1, 3, 3, 1], [1, 4, 6, 4, 1]]\n"
     ]
    },
    {
     "data": {
      "text/plain": [
       "4"
      ]
     },
     "execution_count": 20,
     "metadata": {},
     "output_type": "execute_result"
    }
   ],
   "source": [
    "pascal(4,3)"
   ]
  },
  {
   "cell_type": "markdown",
   "metadata": {},
   "source": [
    "## Leetcode question\n",
    "In a warehouse, there is a row of barcodes, where the ith barcode is barcodes[i].\n",
    "\n",
    "Rearrange the barcodes so that no two adjacent barcodes are equal. You may return any answer, and it is guaranteed an answer exists.\n",
    "Example: Input: barcodes = [1,1,1,2,2,2]\n",
    "Output: [2,1,2,1,2,1]\n",
    "\n",
    "Input: barcodes = [1,1,1,1,2,2,3,3]\n",
    "Output: [1,3,1,3,1,2,1,2]"
   ]
  },
  {
   "cell_type": "code",
   "execution_count": 90,
   "metadata": {},
   "outputs": [],
   "source": [
    "arr = [1,1,1,2,2,2,2,3,3]\n",
    "\n",
    "def barcode_rearrange(arr):\n",
    "    \n",
    "    res=[]\n",
    "    u= list(set(arr))\n",
    "    counts = [(i, arr.count(i)) for i in u]\n",
    "    counts.sort(key= lambda x:x[1], reverse= True)\n",
    "\n",
    "    new=[]\n",
    "    for k,v in counts:\n",
    "        new.extend([k]*v)\n",
    "    \n",
    "    tail=-1\n",
    "    for i in range(len(new)//2):\n",
    "            res.append(new[i])\n",
    "            res.append(new[tail])\n",
    "            tail-=1\n",
    "    if len(new)%2 !=0:\n",
    "        res.insert(0, new[len(new)//2+1])\n",
    "\n",
    "    return res"
   ]
  },
  {
   "cell_type": "code",
   "execution_count": 92,
   "metadata": {},
   "outputs": [
    {
     "name": "stdout",
     "output_type": "stream",
     "text": [
      "[1, 2, 3]\n",
      "[(1, 4), (3, 3), (2, 2)]\n"
     ]
    },
    {
     "data": {
      "text/plain": [
       "[3, 1, 2, 1, 2, 1, 3, 1, 3]"
      ]
     },
     "execution_count": 92,
     "metadata": {},
     "output_type": "execute_result"
    }
   ],
   "source": [
    "arr = [1,1,1,1,2,2,3,3,3] \n",
    "barcode_rearrange(arr)"
   ]
  },
  {
   "cell_type": "code",
   "execution_count": null,
   "metadata": {},
   "outputs": [],
   "source": []
  }
 ],
 "metadata": {
  "kernelspec": {
   "display_name": "Python 3",
   "language": "python",
   "name": "python3"
  },
  "language_info": {
   "codemirror_mode": {
    "name": "ipython",
    "version": 3
   },
   "file_extension": ".py",
   "mimetype": "text/x-python",
   "name": "python",
   "nbconvert_exporter": "python",
   "pygments_lexer": "ipython3",
   "version": "3.8.8"
  }
 },
 "nbformat": 4,
 "nbformat_minor": 4
}
